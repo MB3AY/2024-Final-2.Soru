{
  "metadata": {
    "kernelspec": {
      "name": "python",
      "display_name": "Python (Pyodide)",
      "language": "python"
    },
    "language_info": {
      "codemirror_mode": {
        "name": "python",
        "version": 3
      },
      "file_extension": ".py",
      "mimetype": "text/x-python",
      "name": "python",
      "nbconvert_exporter": "python",
      "pygments_lexer": "ipython3",
      "version": "3.8"
    }
  },
  "nbformat_minor": 4,
  "nbformat": 4,
  "cells": [
    {
      "cell_type": "code",
      "source": "import pandas as pd\nimport numpy as np\nimport tkinter as tk\nfrom tkinter import ttk\n\n# Excel dosyasını oku\nfile_path = 'C:\\\\Users\\\\Meltem\\\\Desktop\\\\soru1_2_data.xlsx'\ndata = pd.read_excel(file_path, header=None)\n",
      "metadata": {
        "trusted": true
      },
      "outputs": [
        {
          "ename": "<class 'ModuleNotFoundError'>",
          "evalue": "The module 'tkinter' is removed from the Python standard library in the Pyodide distribution due to browser limitations.\nSee https://pyodide.org/en/stable/usage/loading-packages.html for more details.",
          "traceback": [
            "\u001b[0;31m---------------------------------------------------------------------------\u001b[0m",
            "\u001b[0;31mModuleNotFoundError\u001b[0m                       Traceback (most recent call last)",
            "Cell \u001b[0;32mIn[1], line 3\u001b[0m\n\u001b[1;32m      1\u001b[0m \u001b[38;5;28;01mimport\u001b[39;00m \u001b[38;5;21;01mpandas\u001b[39;00m \u001b[38;5;28;01mas\u001b[39;00m \u001b[38;5;21;01mpd\u001b[39;00m\n\u001b[1;32m      2\u001b[0m \u001b[38;5;28;01mimport\u001b[39;00m \u001b[38;5;21;01mnumpy\u001b[39;00m \u001b[38;5;28;01mas\u001b[39;00m \u001b[38;5;21;01mnp\u001b[39;00m\n\u001b[0;32m----> 3\u001b[0m \u001b[38;5;28;01mimport\u001b[39;00m \u001b[38;5;21;01mtkinter\u001b[39;00m \u001b[38;5;28;01mas\u001b[39;00m \u001b[38;5;21;01mtk\u001b[39;00m\n\u001b[1;32m      4\u001b[0m \u001b[38;5;28;01mfrom\u001b[39;00m \u001b[38;5;21;01mtkinter\u001b[39;00m \u001b[38;5;28;01mimport\u001b[39;00m ttk\n\u001b[1;32m      6\u001b[0m \u001b[38;5;66;03m# Excel dosyasını oku\u001b[39;00m\n",
            "\u001b[0;31mModuleNotFoundError\u001b[0m: The module 'tkinter' is removed from the Python standard library in the Pyodide distribution due to browser limitations.\nSee https://pyodide.org/en/stable/usage/loading-packages.html for more details."
          ],
          "output_type": "error"
        }
      ],
      "execution_count": 1
    },
    {
      "cell_type": "code",
      "source": "# Veri çerçevesini numpy array'e çevir\nimage = data.to_numpy()\n\n# Piksel değerlerinin histogramını hesapla\nhist, bin_edges = np.histogram(image, bins=np.arange(257))\n\n# Kümülatif Dağılım Fonksiyonunu (CDF) hesapla\ncdf = hist.cumsum()\n\n# CDF'yi normalize et\ncdf_normalized = cdf * (255 / cdf[-1])\n",
      "metadata": {
        "trusted": true
      },
      "outputs": [
        {
          "ename": "<class 'NameError'>",
          "evalue": "name 'data' is not defined",
          "traceback": [
            "\u001b[0;31m---------------------------------------------------------------------------\u001b[0m",
            "\u001b[0;31mNameError\u001b[0m                                 Traceback (most recent call last)",
            "Cell \u001b[0;32mIn[2], line 2\u001b[0m\n\u001b[1;32m      1\u001b[0m \u001b[38;5;66;03m# Veri çerçevesini numpy array'e çevir\u001b[39;00m\n\u001b[0;32m----> 2\u001b[0m image \u001b[38;5;241m=\u001b[39m \u001b[43mdata\u001b[49m\u001b[38;5;241m.\u001b[39mto_numpy()\n\u001b[1;32m      4\u001b[0m \u001b[38;5;66;03m# Piksel değerlerinin histogramını hesapla\u001b[39;00m\n\u001b[1;32m      5\u001b[0m hist, bin_edges \u001b[38;5;241m=\u001b[39m np\u001b[38;5;241m.\u001b[39mhistogram(image, bins\u001b[38;5;241m=\u001b[39mnp\u001b[38;5;241m.\u001b[39marange(\u001b[38;5;241m257\u001b[39m))\n",
            "\u001b[0;31mNameError\u001b[0m: name 'data' is not defined"
          ],
          "output_type": "error"
        }
      ],
      "execution_count": 2
    },
    {
      "cell_type": "code",
      "source": "# Yeni piksel değerlerini hesapla\nequalized_image = np.interp(image.flatten(), bin_edges[:-1], cdf_normalized)\n\n# Yeni piksel değerlerini 32x32 matrisine geri döndür\nequalized_image = equalized_image.reshape(image.shape)\n\n# Tkinter GUI ile tablo gösterme\ndef show_table(data, title):\n    root = tk.Tk()\n    root.title(title)\n\n    frame = ttk.Frame(root, padding=10)\n    frame.grid(row=0, column=0)\n\n    tree = ttk.Treeview(frame, columns=[f'Col {i+1}' for i in range(data.shape[1])], show='headings')\n\n    for i in range(data.shape[1]):\n        tree.heading(f'Col {i+1}', text=f'Col {i+1}')\n        tree.column(f'Col {i+1}', width=50)\n\n    for row in data:\n        tree.insert('', tk.END, values=row)\n\n    tree.grid(row=0, column=0)\n\n    scrollbar = ttk.Scrollbar(frame, orient=tk.VERTICAL, command=tree.yview)\n    tree.configure(yscroll=scrollbar.set)\n    scrollbar.grid(row=0, column=1, sticky='ns')\n\n    root.mainloop()\n",
      "metadata": {
        "trusted": true
      },
      "outputs": [
        {
          "ename": "<class 'NameError'>",
          "evalue": "name 'image' is not defined",
          "traceback": [
            "\u001b[0;31m---------------------------------------------------------------------------\u001b[0m",
            "\u001b[0;31mNameError\u001b[0m                                 Traceback (most recent call last)",
            "Cell \u001b[0;32mIn[3], line 2\u001b[0m\n\u001b[1;32m      1\u001b[0m \u001b[38;5;66;03m# Yeni piksel değerlerini hesapla\u001b[39;00m\n\u001b[0;32m----> 2\u001b[0m equalized_image \u001b[38;5;241m=\u001b[39m np\u001b[38;5;241m.\u001b[39minterp(\u001b[43mimage\u001b[49m\u001b[38;5;241m.\u001b[39mflatten(), bin_edges[:\u001b[38;5;241m-\u001b[39m\u001b[38;5;241m1\u001b[39m], cdf_normalized)\n\u001b[1;32m      4\u001b[0m \u001b[38;5;66;03m# Yeni piksel değerlerini 32x32 matrisine geri döndür\u001b[39;00m\n\u001b[1;32m      5\u001b[0m equalized_image \u001b[38;5;241m=\u001b[39m equalized_image\u001b[38;5;241m.\u001b[39mreshape(image\u001b[38;5;241m.\u001b[39mshape)\n",
            "\u001b[0;31mNameError\u001b[0m: name 'image' is not defined"
          ],
          "output_type": "error"
        }
      ],
      "execution_count": 3
    },
    {
      "cell_type": "code",
      "source": "# Orijinal Görüntü\nprint(\"Orijinal Görüntü:\")\nprint(image)\nshow_table(image, \"Orijinal Görüntü\")\n\n# Piksel Değerleri ve Frekans\nhist_data = np.column_stack((bin_edges[:-1], hist))\nprint(\"\\nPiksel Değerleri ve Frekans:\")\nprint(hist_data)\nshow_table(hist_data, \"Piksel Değerleri ve Frekans\")\n\n# Kümülatif Dağılım Fonksiyonu (CDF)\ncdf_data = np.column_stack((bin_edges[:-1], cdf))\nprint(\"\\nKümülatif Dağılım Fonksiyonu (CDF):\")\nprint(cdf_data)\nshow_table(cdf_data, \"Kümülatif Dağılım Fonksiyonu (CDF)\")\n",
      "metadata": {
        "trusted": true
      },
      "outputs": [
        {
          "name": "stdout",
          "text": "Orijinal Görüntü:\n",
          "output_type": "stream"
        },
        {
          "ename": "<class 'NameError'>",
          "evalue": "name 'image' is not defined",
          "traceback": [
            "\u001b[0;31m---------------------------------------------------------------------------\u001b[0m",
            "\u001b[0;31mNameError\u001b[0m                                 Traceback (most recent call last)",
            "Cell \u001b[0;32mIn[4], line 3\u001b[0m\n\u001b[1;32m      1\u001b[0m \u001b[38;5;66;03m# Orijinal Görüntü\u001b[39;00m\n\u001b[1;32m      2\u001b[0m \u001b[38;5;28mprint\u001b[39m(\u001b[38;5;124m\"\u001b[39m\u001b[38;5;124mOrijinal Görüntü:\u001b[39m\u001b[38;5;124m\"\u001b[39m)\n\u001b[0;32m----> 3\u001b[0m \u001b[38;5;28mprint\u001b[39m(\u001b[43mimage\u001b[49m)\n\u001b[1;32m      4\u001b[0m show_table(image, \u001b[38;5;124m\"\u001b[39m\u001b[38;5;124mOrijinal Görüntü\u001b[39m\u001b[38;5;124m\"\u001b[39m)\n\u001b[1;32m      6\u001b[0m \u001b[38;5;66;03m# Piksel Değerleri ve Frekans\u001b[39;00m\n",
            "\u001b[0;31mNameError\u001b[0m: name 'image' is not defined"
          ],
          "output_type": "error"
        }
      ],
      "execution_count": 4
    },
    {
      "cell_type": "code",
      "source": "# Eşitlenmiş Piksel Değerleri (CDF Normalized)\ncdf_normalized_data = np.column_stack((bin_edges[:-1], cdf_normalized))\nprint(\"\\nEşitlenmiş Piksel Değerleri (CDF Normalized):\")\nprint(cdf_normalized_data)\nshow_table(cdf_normalized_data, \"Eşitlenmiş Piksel Değerleri (CDF Normalized)\")\n\n# Yeni Piksel Değerleri ve Frekans (Equalized Image)\nequalized_data = np.column_stack(np.unique(equalized_image, return_counts=True))\nprint(\"\\nYeni Piksel Değerleri ve Frekans (Equalized Image):\")\nprint(equalized_data)\nshow_table(equalized_data, \"Yeni Piksel Değerleri ve Frekans (Equalized Image)\")\n\n# Eşitlenmiş Görüntü\nprint(\"\\nEşitlenmiş Görüntü:\")\nprint(equalized_image.astype(np.uint8))\nshow_table(equalized_image.astype(np.uint8), \"Eşitlenmiş Görüntü\")\n",
      "metadata": {
        "trusted": true
      },
      "outputs": [
        {
          "ename": "<class 'NameError'>",
          "evalue": "name 'bin_edges' is not defined",
          "traceback": [
            "\u001b[0;31m---------------------------------------------------------------------------\u001b[0m",
            "\u001b[0;31mNameError\u001b[0m                                 Traceback (most recent call last)",
            "Cell \u001b[0;32mIn[5], line 2\u001b[0m\n\u001b[1;32m      1\u001b[0m \u001b[38;5;66;03m# Eşitlenmiş Piksel Değerleri (CDF Normalized)\u001b[39;00m\n\u001b[0;32m----> 2\u001b[0m cdf_normalized_data \u001b[38;5;241m=\u001b[39m np\u001b[38;5;241m.\u001b[39mcolumn_stack((\u001b[43mbin_edges\u001b[49m[:\u001b[38;5;241m-\u001b[39m\u001b[38;5;241m1\u001b[39m], cdf_normalized))\n\u001b[1;32m      3\u001b[0m \u001b[38;5;28mprint\u001b[39m(\u001b[38;5;124m\"\u001b[39m\u001b[38;5;130;01m\\n\u001b[39;00m\u001b[38;5;124mEşitlenmiş Piksel Değerleri (CDF Normalized):\u001b[39m\u001b[38;5;124m\"\u001b[39m)\n\u001b[1;32m      4\u001b[0m \u001b[38;5;28mprint\u001b[39m(cdf_normalized_data)\n",
            "\u001b[0;31mNameError\u001b[0m: name 'bin_edges' is not defined"
          ],
          "output_type": "error"
        }
      ],
      "execution_count": 5
    },
    {
      "cell_type": "code",
      "source": "",
      "metadata": {
        "trusted": true
      },
      "outputs": [],
      "execution_count": null
    }
  ]
}